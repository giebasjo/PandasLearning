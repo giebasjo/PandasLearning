{
 "cells": [
  {
   "cell_type": "markdown",
   "metadata": {},
   "source": [
    "# Effective Python: 59 ways to write better python\n",
    "\n",
    "This iPython Notebook goes through the book *Effective Python: 59 specific ways to write better Python*. The goal of this iPython notebook is to learn more efficient ways to utilize python. Each item will keep in mind Chapter 1's main topic, *Pythonic Thinking*, a coding paradigm specific to python that is widely spread throughout the community."
   ]
  },
  {
   "cell_type": "markdown",
   "metadata": {},
   "source": [
    "## Chapter 1: Pythonic Thinking"
   ]
  },
  {
   "cell_type": "markdown",
   "metadata": {},
   "source": [
    "<a id=\"zen\"></a>\n",
    "The Zen of Python, by Tim Peters\n",
    "\n",
    "Beautiful is better than ugly. <br>\n",
    "Explicit is better than implicit. <br>\n",
    "Simple is better than complex. <br>\n",
    "Complex is better than complicated. <br>\n",
    "Flat is better than nested. <br>\n",
    "Sparse is better than dense. <br>\n",
    "Readability counts. <br>\n",
    "Special cases aren't special enough to break the rules. <br>\n",
    "Although practicality beats purity. <br>\n",
    "Errors should never pass silently. <br>\n",
    "Unless explicitly silenced. <br>\n",
    "In the face of ambiguity, refuse the temptation to guess. <br>\n",
    "There should be one-- and preferably only one --obvious way to do it. <br>\n",
    "Although that way may not be obvious at first unless you're Dutch.<br>\n",
    "Now is better than never.<br>\n",
    "Although never is often better than *right* now.<br>\n",
    "If the implementation is hard to explain, it's a bad idea.<br>\n",
    "If the implementation is easy to explain, it may be a good idea.<br>\n",
    "Namespaces are one honking great idea -- let's do more of those!<br>"
   ]
  },
  {
   "cell_type": "markdown",
   "metadata": {},
   "source": [
    "### Item 1: Know what version of python you're using"
   ]
  },
  {
   "cell_type": "markdown",
   "metadata": {},
   "source": [
    "Many packages and dependencies were changed as Python made the transition from python2 to python3. By default, when typing **python (filename)** into the terminal, the latest version of python2 is used. By contrast, running **python3** in the shell runs the latest version of python3. Below are a few ways to check the version(s) of python installed"
   ]
  },
  {
   "cell_type": "code",
   "execution_count": 94,
   "metadata": {},
   "outputs": [
    {
     "name": "stdout",
     "output_type": "stream",
     "text": [
      "Python 2.7.10\r\n"
     ]
    }
   ],
   "source": [
    "# Using bang (!) to run in-shell commands\n",
    "!python --version "
   ]
  },
  {
   "cell_type": "code",
   "execution_count": 95,
   "metadata": {},
   "outputs": [
    {
     "name": "stdout",
     "output_type": "stream",
     "text": [
      "Python 3.6.3\r\n"
     ]
    }
   ],
   "source": [
    "!python3 --version"
   ]
  },
  {
   "cell_type": "code",
   "execution_count": 96,
   "metadata": {},
   "outputs": [
    {
     "name": "stdout",
     "output_type": "stream",
     "text": [
      "sys.version_info(major=3, minor=6, micro=3, releaselevel='final', serial=0)\n",
      "3.6.3 (default, Oct  4 2017, 06:09:15) \n",
      "[GCC 4.2.1 Compatible Apple LLVM 9.0.0 (clang-900.0.37)]\n"
     ]
    }
   ],
   "source": [
    "import sys\n",
    "print(sys.version_info)\n",
    "print(sys.version)"
   ]
  },
  {
   "cell_type": "markdown",
   "metadata": {},
   "source": [
    "### Item 2: PEP8 style-guide\n",
    "\n",
    "PEP8 (Python Enhancement Proposal #8) is a guide for formatting python code. The following link contains the guide in entirety, and is worth checking out: http://www.python.org/dev/peps/pep-0008/ <br>\n",
    "Below are some primary rules worth following immediately (I've only selected the ones that I consider to be clearly relevant): <br>\n",
    "\n",
    "**White Space:** Keep in mind that white space is syntactically significant <br>\n",
    "<ul>\n",
    "    <li> Lines should be less than 79 characters in length\n",
    "    <li> Continuations of long lines should be indented properly (as in R)\n",
    "    <li> In a file, functions and classes should be separated by two blank lines\n",
    "    <li> In a class, methods should be separated by one blank line\n",
    "    <li> Put one, and only one, space before and after variable assignment\n",
    "    <li> Don't put spaces around list indices, function calls, or keyword argument assignments\n",
    "</ul>\n",
    "\n",
    "**Naming:** A particular style is associated with different names within the language, here's a guide: <br>\n",
    "<ul>\n",
    "    <li> Functions, variables, and attributes follow `lowercase_underscore`\n",
    "    <li> Protected instance attributes should follow `_leading_underscore`\n",
    "    <li> Private instance attributes should follow `__double_leading_underscore`\n",
    "    <li> Classes and exceptions should be in `ReverseCamelCase`\n",
    "    <li> Module-level constants should follow `ALL_CAPS`\n",
    "    <li> Instance methods within a class should pass `self` as the first argument (referring to object)\n",
    "    <li> Class methods should use `cls` as the name of the first parameter (referring to the class)\n",
    "</ul>\n",
    "\n",
    "**Expressions and Statements:** Referring to [The Zen of Python](#zen), \"There should be one-- and preferably only one --obvious way to do it.\" The PEP8 guide eliminates some ambiguity in decision making, as seen as follows: <br>\n",
    "<ul>\n",
    "    <li> Use inline negation (`if a is not b`) rather than negation of positive expressions (`if not as is b`)\n",
    "    <li> Don't check for empty values (like `[]` or `''`) by checking the length (`if len(somelist) == 0`). Use `if not somelist` and assume empty values evaluate to `False`\n",
    "    <li> Similarly for non-empty values (like `['hello_world']`. Assume `if somelist` will evaluate to `True` if non-empty\n",
    "    <li> Avoid single line `if` statements, `for` and `while` loops. Spread them out for clarity.\n",
    "    <li> `import` statement belong at the top of the file\n",
    "    <li> When importing a module, be sure to use the absolute path: `from foo import bar`\n",
    "    <li> Imports should be in sections in the following order: standard library modules, third-party modules, your own modules. Each subsection should have imports in alphabetical order.\n",
    "</ul>"
   ]
  },
  {
   "cell_type": "markdown",
   "metadata": {},
   "source": [
    "### Item 3: Differences between bytes, str, and unicode\n",
    "A lot to this topic surely, below is a summary of the key points made:\n",
    "<ul>\n",
    "    <li> **Python3:** Sequences of characters can be `bytes` or `str`. Instances of `bytes` contain raw 8-bit values; instances of `str` contain Unicode characters\n",
    "    <li> **Python2:** Sequences of characters can be `str` or `unicode`. Instances of `str` contain raw 8-bit values; instances of `unicode` contain Unicode characters\n",
    "</ul>\n",
    "\n",
    "Have caution with which sort of sequence of characters you'd like to work.\n",
    "    \n",
    "  "
   ]
  },
  {
   "cell_type": "markdown",
   "metadata": {},
   "source": [
    "### Item 5: Slice Sequences\n",
    "\n",
    "Often we are working with an iterable, so we will need to extract subsets of data. Python offers a variety of ways designed to make that as easy as possible.\n"
   ]
  },
  {
   "cell_type": "code",
   "execution_count": 97,
   "metadata": {},
   "outputs": [
    {
     "name": "stdout",
     "output_type": "stream",
     "text": [
      "First Four: ['a', 'b', 'c', 'd']\n",
      "Last Four: ['e', 'f', 'g', 'h']\n",
      "Middle Two: ['d', 'e']\n"
     ]
    }
   ],
   "source": [
    "a = ['a','b','c','d','e','f','g','h']\n",
    "print(\"First Four:\", a[:4])\n",
    "print(\"Last Four:\", a[-4:])\n",
    "print(\"Middle Two:\", a[3:-3])"
   ]
  },
  {
   "cell_type": "markdown",
   "metadata": {},
   "source": [
    "When slicing from the start of the list, leave out the zero index"
   ]
  },
  {
   "cell_type": "code",
   "execution_count": 98,
   "metadata": {},
   "outputs": [
    {
     "data": {
      "text/plain": [
       "['a', 'b', 'c', 'd', 'e', 'f', 'g', 'h']"
      ]
     },
     "execution_count": 98,
     "metadata": {},
     "output_type": "execute_result"
    }
   ],
   "source": [
    "b = a[0:8] # NO\n",
    "b = a[:8] # YES\n",
    "b"
   ]
  },
  {
   "cell_type": "markdown",
   "metadata": {},
   "source": [
    "Similarly, when slicing from the end of the list leave out the last index"
   ]
  },
  {
   "cell_type": "code",
   "execution_count": 99,
   "metadata": {},
   "outputs": [
    {
     "data": {
      "text/plain": [
       "['f', 'g', 'h']"
      ]
     },
     "execution_count": 99,
     "metadata": {},
     "output_type": "execute_result"
    }
   ],
   "source": [
    "b = a[5:len(a)] # NO\n",
    "b = a[5:] # YES\n",
    "b"
   ]
  },
  {
   "cell_type": "markdown",
   "metadata": {},
   "source": [
    "Here are a variety of ways to slice"
   ]
  },
  {
   "cell_type": "code",
   "execution_count": 100,
   "metadata": {},
   "outputs": [
    {
     "name": "stdout",
     "output_type": "stream",
     "text": [
      "['a', 'b', 'c', 'd', 'e', 'f', 'g', 'h']\n",
      "['a', 'b', 'c', 'd', 'e']\n",
      "['a', 'b', 'c', 'd', 'e', 'f', 'g']\n",
      "['e', 'f', 'g', 'h']\n",
      "['f', 'g', 'h']\n",
      "['c', 'd', 'e']\n",
      "['c', 'd', 'e', 'f', 'g']\n",
      "['f', 'g']\n"
     ]
    }
   ],
   "source": [
    "print(a[:])     # ['a','b','c','d','e','f','g','h']\n",
    "print(a[:5])    # ['a','b','c','d','e'] \n",
    "print(a[:-1])   # ['a','b','c','d','e','f','g'] \n",
    "print(a[4:])    #                 ['e','f','g','h']\n",
    "print(a[-3:])   #                     ['f','g','h']\n",
    "print(a[2:5])   #         ['c','d','e']\n",
    "print(a[2:-1])  #         ['c','d','e','f','g']\n",
    "print(a[-3:-1]) #                     ['f','g']"
   ]
  },
  {
   "cell_type": "markdown",
   "metadata": {},
   "source": [
    "**Note:** An IndexError is returned if the requested slice goes out of bounds."
   ]
  },
  {
   "cell_type": "markdown",
   "metadata": {},
   "source": [
    "The result of a list is another list, that is a copy is made. References from the original list are maintained:"
   ]
  },
  {
   "cell_type": "code",
   "execution_count": 101,
   "metadata": {},
   "outputs": [
    {
     "name": "stdout",
     "output_type": "stream",
     "text": [
      "Before:  ['e', 'f', 'g', 'h']\n",
      "After:  ['e', 99, 'g', 'h']\n",
      "No change:  ['a', 'b', 'c', 'd', 'e', 'f', 'g', 'h']\n"
     ]
    }
   ],
   "source": [
    "b = a[4:]\n",
    "print(\"Before: \", b)\n",
    "b[1] = 99\n",
    "print(\"After: \", b)\n",
    "print(\"No change: \", a)"
   ]
  },
  {
   "cell_type": "markdown",
   "metadata": {},
   "source": [
    "### Item 6: Avoid using start, end and stride in Single Slice\n",
    "\n",
    "Python has syntax to easily allow iterate every nth element. The example below groups the array by even and odd indices"
   ]
  },
  {
   "cell_type": "code",
   "execution_count": 102,
   "metadata": {},
   "outputs": [
    {
     "name": "stdout",
     "output_type": "stream",
     "text": [
      "['red', 'yellow', 'blue']\n",
      "['orange', 'green', 'purple']\n"
     ]
    }
   ],
   "source": [
    "# Evens : 0, 2, 4, ...\n",
    "# Odds  : 1, 3, 5, ...\n",
    "a = ['red','orange','yellow','green','blue','purple']\n",
    "evens = a[::2]\n",
    "odds = a[1::2]\n",
    "print(evens)\n",
    "print(odds)"
   ]
  },
  {
   "cell_type": "markdown",
   "metadata": {},
   "source": [
    "The problem is that the `stride` syntax causes unexpected behavior. For example, a common Python trick is to reverse the characters of a bit string by passing -1 into the `stride` argument:"
   ]
  },
  {
   "cell_type": "code",
   "execution_count": 103,
   "metadata": {},
   "outputs": [
    {
     "name": "stdout",
     "output_type": "stream",
     "text": [
      "b'esoognom'\n"
     ]
    }
   ],
   "source": [
    "x = b'mongoose'\n",
    "y = x[::-1]\n",
    "print(y)"
   ]
  },
  {
   "cell_type": "markdown",
   "metadata": {},
   "source": [
    "This works fine for now, but has problems for unicode characters encoded as UTF-8 strings. Here are some cases where one may find it useful:"
   ]
  },
  {
   "cell_type": "code",
   "execution_count": 104,
   "metadata": {},
   "outputs": [
    {
     "name": "stdout",
     "output_type": "stream",
     "text": [
      "['a', 'c', 'e', 'g']\n",
      "['g']\n",
      "['g', 'e']\n",
      "[]\n"
     ]
    }
   ],
   "source": [
    "a = ['a','b','c','d','e','f','g','h']\n",
    "print(a[::2])\n",
    "print(a[-2::2])\n",
    "print(a[-2:2:-2])\n",
    "print(a[2:2:-2])"
   ]
  },
  {
   "cell_type": "markdown",
   "metadata": {},
   "source": [
    "### Item 7: Use list comprehensions instead of *map* and *filter*\n",
    "\n",
    "Two derive one list from another, python has a very useful syntax: *list comprehension*. Consider the following code below,"
   ]
  },
  {
   "cell_type": "code",
   "execution_count": 105,
   "metadata": {},
   "outputs": [],
   "source": [
    "a = [i for i in range(0,10)]"
   ]
  },
  {
   "cell_type": "code",
   "execution_count": 106,
   "metadata": {},
   "outputs": [
    {
     "data": {
      "text/plain": [
       "[0, 1, 2, 3, 4, 5, 6, 7, 8, 9]"
      ]
     },
     "execution_count": 106,
     "metadata": {},
     "output_type": "execute_result"
    }
   ],
   "source": [
    "a"
   ]
  },
  {
   "cell_type": "code",
   "execution_count": 107,
   "metadata": {},
   "outputs": [],
   "source": [
    "b = [elm**2 for elm in a]"
   ]
  },
  {
   "cell_type": "code",
   "execution_count": 108,
   "metadata": {},
   "outputs": [
    {
     "data": {
      "text/plain": [
       "[0, 1, 4, 9, 16, 25, 36, 49, 64, 81]"
      ]
     },
     "execution_count": 108,
     "metadata": {},
     "output_type": "execute_result"
    }
   ],
   "source": [
    "b"
   ]
  },
  {
   "cell_type": "markdown",
   "metadata": {},
   "source": [
    "*List comprehensions* are much clearer than map, except for simple cases. `map` requires the creation of a lambda function. See the following:"
   ]
  },
  {
   "cell_type": "code",
   "execution_count": 109,
   "metadata": {},
   "outputs": [],
   "source": [
    "squares = map(lambda x: x**2, a)"
   ]
  },
  {
   "cell_type": "markdown",
   "metadata": {},
   "source": [
    "*List comprehensions* are more useful since they allow users to specify conditionals more easily than `map`:"
   ]
  },
  {
   "cell_type": "code",
   "execution_count": 110,
   "metadata": {},
   "outputs": [],
   "source": [
    "even_squares = [x**2 for x in a if x%2 == 0]"
   ]
  },
  {
   "cell_type": "code",
   "execution_count": 111,
   "metadata": {},
   "outputs": [
    {
     "data": {
      "text/plain": [
       "[0, 4, 16, 36, 64]"
      ]
     },
     "execution_count": 111,
     "metadata": {},
     "output_type": "execute_result"
    }
   ],
   "source": [
    "even_squares"
   ]
  },
  {
   "cell_type": "markdown",
   "metadata": {},
   "source": [
    "The `filter` method can be used alongside map for the same effect, but is noticely uglier to read"
   ]
  },
  {
   "cell_type": "code",
   "execution_count": 112,
   "metadata": {},
   "outputs": [],
   "source": [
    "alt = map(lambda x: x**2, filter(lambda x: x%2 == 0, a))"
   ]
  },
  {
   "cell_type": "markdown",
   "metadata": {},
   "source": [
    "Dictionaries and sets are congruent. *List Comprehension* may be performed in the following way,"
   ]
  },
  {
   "cell_type": "code",
   "execution_count": 113,
   "metadata": {},
   "outputs": [
    {
     "data": {
      "text/plain": [
       "{5, 7, 8}"
      ]
     },
     "execution_count": 113,
     "metadata": {},
     "output_type": "execute_result"
    }
   ],
   "source": [
    "chile_ranks = {'ghost': 1, 'habanero': 2, 'cayenne': 3}\n",
    "rank_dict = {rank: name for name, rank in chile_ranks.items()}\n",
    "chile_len_set = {len(name) for name in rank_dict.values()}\n",
    "\n",
    "chile_len_set"
   ]
  },
  {
   "cell_type": "markdown",
   "metadata": {},
   "source": [
    "### Item 8: Avoid more than two expressions in list comprehensions\n",
    "\n",
    "One may pass multiple expressions using *list comprehension* as well. Consider turning a matrix (list of lists) into a flat list as follows,"
   ]
  },
  {
   "cell_type": "code",
   "execution_count": 114,
   "metadata": {},
   "outputs": [
    {
     "name": "stdout",
     "output_type": "stream",
     "text": [
      "[1, 2, 3, 4, 5, 6, 7, 8, 9]\n"
     ]
    }
   ],
   "source": [
    "matrix = [[1,2,3],[4,5,6],[7,8,9]]\n",
    "flat = [x for row in matrix for x in row]\n",
    "print(flat)"
   ]
  },
  {
   "cell_type": "markdown",
   "metadata": {},
   "source": [
    "Similarly, consider if one wanted to square every element in a matrix and preserve the matrix structure:"
   ]
  },
  {
   "cell_type": "code",
   "execution_count": 115,
   "metadata": {},
   "outputs": [],
   "source": [
    "squared = [[x**2 for x in row] for row in matrix]"
   ]
  },
  {
   "cell_type": "code",
   "execution_count": 116,
   "metadata": {},
   "outputs": [
    {
     "data": {
      "text/plain": [
       "[[1, 4, 9], [16, 25, 36], [49, 64, 81]]"
      ]
     },
     "execution_count": 116,
     "metadata": {},
     "output_type": "execute_result"
    }
   ],
   "source": [
    "squared"
   ]
  },
  {
   "cell_type": "markdown",
   "metadata": {},
   "source": [
    "*List comprehensions* also support multiple conditional statement"
   ]
  },
  {
   "cell_type": "code",
   "execution_count": 117,
   "metadata": {},
   "outputs": [],
   "source": [
    "a = [i for i in range(1,11)]\n",
    "b = [x for x in a if x > 4 if x%2 == 0]\n",
    "c = [x for x in a if x > 4 and x%2 == 0]"
   ]
  },
  {
   "cell_type": "code",
   "execution_count": 118,
   "metadata": {},
   "outputs": [
    {
     "name": "stdout",
     "output_type": "stream",
     "text": [
      "[6, 8, 10]\n",
      "[6, 8, 10]\n"
     ]
    }
   ],
   "source": [
    "print(b); print(c)"
   ]
  },
  {
   "cell_type": "markdown",
   "metadata": {},
   "source": [
    "### Item 9: Consider *generator expresssions* for large *list comprehensions*"
   ]
  },
  {
   "cell_type": "markdown",
   "metadata": {},
   "source": [
    "*List comprehensions* create a copy of same length as the input list, hence they consume a lot of memory. For large data sets, utilize *generator expressions*. A *generator expression* is similar to an iterator in C++, and the syntax is to wrap the line around in (). Consider the following,"
   ]
  },
  {
   "cell_type": "code",
   "execution_count": 119,
   "metadata": {},
   "outputs": [],
   "source": [
    "itr = (len(x) for x in open('./tmp/my_file.txt'))"
   ]
  },
  {
   "cell_type": "code",
   "execution_count": 120,
   "metadata": {},
   "outputs": [
    {
     "data": {
      "text/plain": [
       "<generator object <genexpr> at 0x10c988518>"
      ]
     },
     "execution_count": 120,
     "metadata": {},
     "output_type": "execute_result"
    }
   ],
   "source": [
    "itr"
   ]
  },
  {
   "cell_type": "code",
   "execution_count": 121,
   "metadata": {},
   "outputs": [
    {
     "data": {
      "text/plain": [
       "generator"
      ]
     },
     "execution_count": 121,
     "metadata": {},
     "output_type": "execute_result"
    }
   ],
   "source": [
    "type(itr)"
   ]
  },
  {
   "cell_type": "markdown",
   "metadata": {},
   "source": [
    "Use the `next()` function in orer to iterate through the *generator*,"
   ]
  },
  {
   "cell_type": "code",
   "execution_count": 122,
   "metadata": {},
   "outputs": [
    {
     "name": "stdout",
     "output_type": "stream",
     "text": [
      "7\n",
      "7\n"
     ]
    }
   ],
   "source": [
    "print(next(itr))\n",
    "print(next(itr))"
   ]
  },
  {
   "cell_type": "markdown",
   "metadata": {},
   "source": [
    "*Generators* may also be composed together. Consider the following piece of code that uses an iterator returned by a generator as the input for another generator expression:"
   ]
  },
  {
   "cell_type": "code",
   "execution_count": 123,
   "metadata": {},
   "outputs": [],
   "source": [
    "roots = ((x,x**0.5) for x in itr)"
   ]
  },
  {
   "cell_type": "code",
   "execution_count": 124,
   "metadata": {},
   "outputs": [
    {
     "name": "stdout",
     "output_type": "stream",
     "text": [
      "(7, 2.6457513110645907)\n"
     ]
    }
   ],
   "source": [
    "print(next(roots))"
   ]
  },
  {
   "cell_type": "markdown",
   "metadata": {},
   "source": [
    "Each time an iterator is advanced, it also advanced the inner iterator creating a domino effect of looping, evaluating conditional expressions, and passing around inputs and outputs. Chaining *generators* in Python executes very quickly. For large inputs, *generators* should be the de facto method. The only problem is that generators are **stateful**, meaning that they can only be used once."
   ]
  },
  {
   "cell_type": "markdown",
   "metadata": {},
   "source": [
    "### Item 10: Prefer *enumerate* over *range* where applicable\n",
    "\n",
    "*Range* is useful when iterating over a set of integers. For example,"
   ]
  },
  {
   "cell_type": "code",
   "execution_count": 125,
   "metadata": {},
   "outputs": [],
   "source": [
    "from random import randint\n",
    "\n",
    "random_bits = 0\n",
    "for i in range(64):\n",
    "    if randint(0,1):\n",
    "        random_bits |= 1 << i"
   ]
  },
  {
   "cell_type": "markdown",
   "metadata": {},
   "source": [
    "Python makes iterating over many data structures quite simple. Consider the following method of iterating over a list,"
   ]
  },
  {
   "cell_type": "code",
   "execution_count": 126,
   "metadata": {},
   "outputs": [
    {
     "name": "stdout",
     "output_type": "stream",
     "text": [
      "vanilla is delicious\n",
      "chocolate is delicious\n",
      "pecan is delicious\n",
      "strawberry is delicious\n"
     ]
    }
   ],
   "source": [
    "flavor_list = ['vanilla','chocolate','pecan','strawberry']\n",
    "for flavor in flavor_list:\n",
    "    print('%s is delicious' % flavor)"
   ]
  },
  {
   "cell_type": "markdown",
   "metadata": {},
   "source": [
    "Suppose you're interested iterating over a list and outputting each values **and** its corresponding index. *Range* could be used for this as follows,"
   ]
  },
  {
   "cell_type": "code",
   "execution_count": 127,
   "metadata": {},
   "outputs": [
    {
     "name": "stdout",
     "output_type": "stream",
     "text": [
      "1: vanilla\n",
      "2: chocolate\n",
      "3: pecan\n",
      "4: strawberry\n"
     ]
    }
   ],
   "source": [
    "for i in range(len(flavor_list)):\n",
    "    flavor = flavor_list[i]\n",
    "    print('%d: %s' % (i+1, flavor))"
   ]
  },
  {
   "cell_type": "markdown",
   "metadata": {},
   "source": [
    "Compare the above with the following chunk using *enumerate*,"
   ]
  },
  {
   "cell_type": "code",
   "execution_count": 128,
   "metadata": {},
   "outputs": [
    {
     "name": "stdout",
     "output_type": "stream",
     "text": [
      "1: vanilla\n",
      "2: chocolate\n",
      "3: pecan\n",
      "4: strawberry\n"
     ]
    }
   ],
   "source": [
    "for i, flavor in enumerate(flavor_list):\n",
    "    print('%d: %s' % (i+1,flavor))"
   ]
  },
  {
   "cell_type": "markdown",
   "metadata": {},
   "source": [
    "*Enumerate* has an optional argument that will offset the count shown below,"
   ]
  },
  {
   "cell_type": "code",
   "execution_count": 129,
   "metadata": {},
   "outputs": [
    {
     "name": "stdout",
     "output_type": "stream",
     "text": [
      "1: vanilla\n",
      "2: chocolate\n",
      "3: pecan\n",
      "4: strawberry\n"
     ]
    }
   ],
   "source": [
    "for i, flavor in enumerate(flavor_list, 1):\n",
    "    print('%d: %s' % (i, flavor))"
   ]
  },
  {
   "cell_type": "markdown",
   "metadata": {},
   "source": [
    "### Item 11: Use *zip* to process iterators in parallel\n",
    "\n",
    "While *List Comprehensions* make it easy to derive one list from another through some expression, "
   ]
  },
  {
   "cell_type": "code",
   "execution_count": 130,
   "metadata": {},
   "outputs": [],
   "source": [
    "names = ['Cecilia', 'Lise', 'Marie']\n",
    "letters = [len(n) for n in names]"
   ]
  },
  {
   "cell_type": "markdown",
   "metadata": {},
   "source": [
    "We now have two lists that are highly related to one another. Suppose you're interested in determining the maximum letters in the longest name, the following implementation using *range* will suffice,"
   ]
  },
  {
   "cell_type": "code",
   "execution_count": 131,
   "metadata": {},
   "outputs": [
    {
     "name": "stdout",
     "output_type": "stream",
     "text": [
      "The longest name is Cecilia, and it contains 7 letters\n"
     ]
    }
   ],
   "source": [
    "longest_name = None\n",
    "max_letters = 0\n",
    "for i in range(len(names)):\n",
    "    count = letters[i]\n",
    "    if count > max_letters:\n",
    "        longest_name = names[i]\n",
    "        max_letters = count\n",
    "print('The longest name is %s, and it contains %d letters' % (longest_name, max_letters))"
   ]
  },
  {
   "cell_type": "markdown",
   "metadata": {},
   "source": [
    "*Enumerate* makes this a little more visually appealing,"
   ]
  },
  {
   "cell_type": "code",
   "execution_count": 132,
   "metadata": {},
   "outputs": [
    {
     "name": "stdout",
     "output_type": "stream",
     "text": [
      "The longest name is Cecilia, and it contains 7 letters\n"
     ]
    }
   ],
   "source": [
    "longest_name = None\n",
    "max_letters = 0\n",
    "for i, name in enumerate(names):\n",
    "    count = letters[i]\n",
    "    if count > max_letters:\n",
    "        longest_name = name\n",
    "        max_letters = count\n",
    "print('The longest name is %s, and it contains %d letters' % (longest_name, max_letters))"
   ]
  },
  {
   "cell_type": "markdown",
   "metadata": {},
   "source": [
    "For these situations, Python offers the *zip* function built-in. In Python3, *zip* wraps two or more iterators with a lazy *generator*. The *zip* generator yields tuples containing the next value from each iterator. It is much more efficient (using a *generator*) and is much more aesthetic as seen below,"
   ]
  },
  {
   "cell_type": "code",
   "execution_count": 133,
   "metadata": {},
   "outputs": [
    {
     "name": "stdout",
     "output_type": "stream",
     "text": [
      "The longest name is Cecilia, and it contains 7 letters\n"
     ]
    }
   ],
   "source": [
    "for name, count in zip(names, letters):\n",
    "    if count > max_letters:\n",
    "        longest_name = name\n",
    "        max_letters = count\n",
    "        \n",
    "print('The longest name is %s, and it contains %d letters' % (longest_name, max_letters))"
   ]
  },
  {
   "cell_type": "markdown",
   "metadata": {},
   "source": [
    "**Warnings/Notes:** In Python2, *zip* is not a *generator*, it will fully exhaust the supplied generators and return a *list* of all the *tuples* it created. This could potentially use a lot of memory (think of every n-pair combintation $\\frac{n(n+1)}{2}$). Hence, if using *zip* in Python2 and this is a concern, consider using *izip* from the `itertools` built-in module. Secondly, *zip* has unpredictable behavior for input iterators of different lengths:"
   ]
  },
  {
   "cell_type": "code",
   "execution_count": 134,
   "metadata": {},
   "outputs": [],
   "source": [
    "names.append('Jordan')"
   ]
  },
  {
   "cell_type": "code",
   "execution_count": 135,
   "metadata": {},
   "outputs": [
    {
     "name": "stdout",
     "output_type": "stream",
     "text": [
      "Cecilia\n",
      "Lise\n",
      "Marie\n"
     ]
    }
   ],
   "source": [
    "for name, count in zip(names, letters):\n",
    "    print(name)"
   ]
  },
  {
   "cell_type": "markdown",
   "metadata": {},
   "source": [
    "Notice that Jordan is not included. This is because Python3's version of *zip* continues iterating until one of the iterators is completely exhausted. For many uses, one uses *zip* after performing a *list comprehension*, and is confident that two iterables are of the same length. If this is a worry, consider using *zip_longest* from the `itertools` built-in module."
   ]
  },
  {
   "cell_type": "markdown",
   "metadata": {},
   "source": [
    "### Item 13: Take advantage of each block in `try/except/else/finally`\n",
    "\n",
    "There are four cases in which one may want to perform some action when exception handling. Each of the `try/except/else/finally` blocks serves its own purpose."
   ]
  },
  {
   "cell_type": "markdown",
   "metadata": {},
   "source": [
    "**Finally Blocks:** <br>\n",
    "Use `try/finally` when you want exceptions to propagate up, but you also want to run cleanup code even when exceptions occur. A common usage of `try/finally` is for file handling:"
   ]
  },
  {
   "cell_type": "code",
   "execution_count": 136,
   "metadata": {},
   "outputs": [],
   "source": [
    "handle = open('./tmp/my_file.txt') # May raise IOError\n",
    "try:\n",
    "    data = handle.read()           # May raise UnicodeEncodeDecode Error\n",
    "finally:\n",
    "    handle.close()                 # Always runs after try, good because we should always close the file"
   ]
  },
  {
   "cell_type": "markdown",
   "metadata": {},
   "source": [
    "**Else Blocks:** <br>\n",
    "Use `try/except/else` to be clear about which exceptions will be handled by the code, and which will propagate up. When `try` doesn't raise an exception, the `else` block will run. The point of the `else` block is to minimize the amount of code written in the `try` block. For example, imagine you want to load a JSON dictionary data from a string and return the value of a key it contains:"
   ]
  },
  {
   "cell_type": "code",
   "execution_count": 137,
   "metadata": {},
   "outputs": [],
   "source": [
    "def load_json_key(data, key):\n",
    "    try:\n",
    "        result_dict = json.loads(data) # May raise ValueError\n",
    "    except ValueError as e:\n",
    "        raise KeyError from e\n",
    "    else:\n",
    "        return result_dict[key]        # May raise KeyError"
   ]
  },
  {
   "cell_type": "markdown",
   "metadata": {},
   "source": [
    "**Note:** This is what is meant by propogation. Consider the situation above: when json.load() is called in the `try` block, it may raise a `ValueError` and enter the `except` block. If however, no `ValueError` is during the `try` block it will immediately skip to the `else` block. When trying to access a particular key of a dictionary, a `KeyError` may be raised. It doesn't appear that this will be handled, but surely it will since it will propagate up and the `raise KeyError from e` will be called."
   ]
  },
  {
   "cell_type": "markdown",
   "metadata": {},
   "source": [
    "**Try/Except/Else/Finally:** <br>\n",
    "Use `try/except/else/finally` when you'd like to do it all in one. Suppose you'd like to read a description from a file, process it, and then update the file in place. Here, the `try` block is used to read the file and process it. The `except` block is used to handle exceptions from the `try` block that are anticipated. The `else` block is used to update the file in place and to allow related exceptions to propagate up. The `finally` block cleans up the file handle"
   ]
  },
  {
   "cell_type": "code",
   "execution_count": 138,
   "metadata": {},
   "outputs": [],
   "source": [
    "UNDEFINED = object()\n",
    "\n",
    "def divide_json(path):\n",
    "    handle = open(path, 'r+')              # May raise IOError\n",
    "    try: \n",
    "        data = handle.read()               # May raise UnicodeDecodeError\n",
    "        op = json.loads(data)              # May raise ValueError\n",
    "        value = (\n",
    "            op['numerator'] / \n",
    "            op['denominator'])             # May raise ZeroDivisionError\n",
    "    except ZeroDivisionError as e:\n",
    "        return UNDEFINED\n",
    "    else:\n",
    "        op['result'] = value\n",
    "        result = json.dumps(op)\n",
    "        handle.seek(0)\n",
    "        hand.write(result)                 # May raise IOError\n",
    "        return value\n",
    "    finally: \n",
    "        handle.close()"
   ]
  },
  {
   "cell_type": "markdown",
   "metadata": {},
   "source": [
    "## Chapter 2: Functions"
   ]
  },
  {
   "cell_type": "code",
   "execution_count": null,
   "metadata": {},
   "outputs": [],
   "source": []
  }
 ],
 "metadata": {
  "kernelspec": {
   "display_name": "Python 3",
   "language": "python",
   "name": "python3"
  },
  "language_info": {
   "codemirror_mode": {
    "name": "ipython",
    "version": 3
   },
   "file_extension": ".py",
   "mimetype": "text/x-python",
   "name": "python",
   "nbconvert_exporter": "python",
   "pygments_lexer": "ipython3",
   "version": "3.6.3"
  }
 },
 "nbformat": 4,
 "nbformat_minor": 2
}
