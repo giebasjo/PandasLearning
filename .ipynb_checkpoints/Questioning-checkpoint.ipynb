{
 "cells": [
  {
   "cell_type": "markdown",
   "metadata": {},
   "source": [
    "# Not too sure what this is yet, just drafting"
   ]
  },
  {
   "cell_type": "code",
   "execution_count": 87,
   "metadata": {},
   "outputs": [],
   "source": [
    "import quandl \n",
    "import pandas as pd\n",
    "import numpy as np"
   ]
  },
  {
   "cell_type": "code",
   "execution_count": 89,
   "metadata": {},
   "outputs": [],
   "source": [
    "symbs = ['AAPL','GOOG','AMZN','NFLX']\n",
    "universe = [quandl.get((\"WIKI/\" + str(symbol)), start_date=\"2006-10-01\", end_date=\"2012-01-01\")\n",
    "            for symbol in symbs]\n"
   ]
  },
  {
   "cell_type": "code",
   "execution_count": 90,
   "metadata": {},
   "outputs": [],
   "source": [
    "## Just do for Close Prices for now (1/1/2018)\n",
    "for df, symbol in zip(universe, symbs):\n",
    "    df.drop(df.columns[4:11],axis=1,inplace=True)\n",
    "    df['pct_change'] = df.Close.pct_change()\n",
    "    df['log return'] = np.log(df.Close/df.Close.shift(1))\n",
    "    df['Ticker'] = str(symbol)\n",
    "    \n"
   ]
  },
  {
   "cell_type": "code",
   "execution_count": 91,
   "metadata": {},
   "outputs": [
    {
     "data": {
      "text/html": [
       "<div>\n",
       "<style>\n",
       "    .dataframe thead tr:only-child th {\n",
       "        text-align: right;\n",
       "    }\n",
       "\n",
       "    .dataframe thead th {\n",
       "        text-align: left;\n",
       "    }\n",
       "\n",
       "    .dataframe tbody tr th {\n",
       "        vertical-align: top;\n",
       "    }\n",
       "</style>\n",
       "<table border=\"1\" class=\"dataframe\">\n",
       "  <thead>\n",
       "    <tr style=\"text-align: right;\">\n",
       "      <th></th>\n",
       "      <th>Open</th>\n",
       "      <th>High</th>\n",
       "      <th>Low</th>\n",
       "      <th>Close</th>\n",
       "      <th>Adj. Volume</th>\n",
       "      <th>pct_change</th>\n",
       "      <th>log return</th>\n",
       "      <th>Ticker</th>\n",
       "    </tr>\n",
       "    <tr>\n",
       "      <th>Date</th>\n",
       "      <th></th>\n",
       "      <th></th>\n",
       "      <th></th>\n",
       "      <th></th>\n",
       "      <th></th>\n",
       "      <th></th>\n",
       "      <th></th>\n",
       "      <th></th>\n",
       "    </tr>\n",
       "  </thead>\n",
       "  <tbody>\n",
       "    <tr>\n",
       "      <th>2006-10-02</th>\n",
       "      <td>75.10</td>\n",
       "      <td>75.870</td>\n",
       "      <td>74.30</td>\n",
       "      <td>74.86</td>\n",
       "      <td>178159800.0</td>\n",
       "      <td>NaN</td>\n",
       "      <td>NaN</td>\n",
       "      <td>AAPL</td>\n",
       "    </tr>\n",
       "    <tr>\n",
       "      <th>2006-10-03</th>\n",
       "      <td>74.45</td>\n",
       "      <td>74.950</td>\n",
       "      <td>73.19</td>\n",
       "      <td>74.07</td>\n",
       "      <td>197677200.0</td>\n",
       "      <td>-0.010553</td>\n",
       "      <td>-0.010609</td>\n",
       "      <td>AAPL</td>\n",
       "    </tr>\n",
       "    <tr>\n",
       "      <th>2006-10-04</th>\n",
       "      <td>74.10</td>\n",
       "      <td>75.462</td>\n",
       "      <td>73.16</td>\n",
       "      <td>75.38</td>\n",
       "      <td>207270700.0</td>\n",
       "      <td>0.017686</td>\n",
       "      <td>0.017531</td>\n",
       "      <td>AAPL</td>\n",
       "    </tr>\n",
       "    <tr>\n",
       "      <th>2006-10-05</th>\n",
       "      <td>74.53</td>\n",
       "      <td>76.160</td>\n",
       "      <td>74.13</td>\n",
       "      <td>74.83</td>\n",
       "      <td>170970800.0</td>\n",
       "      <td>-0.007296</td>\n",
       "      <td>-0.007323</td>\n",
       "      <td>AAPL</td>\n",
       "    </tr>\n",
       "    <tr>\n",
       "      <th>2006-10-06</th>\n",
       "      <td>74.42</td>\n",
       "      <td>75.040</td>\n",
       "      <td>73.81</td>\n",
       "      <td>74.22</td>\n",
       "      <td>116739700.0</td>\n",
       "      <td>-0.008152</td>\n",
       "      <td>-0.008185</td>\n",
       "      <td>AAPL</td>\n",
       "    </tr>\n",
       "  </tbody>\n",
       "</table>\n",
       "</div>"
      ],
      "text/plain": [
       "             Open    High    Low  Close  Adj. Volume  pct_change  log return  \\\n",
       "Date                                                                           \n",
       "2006-10-02  75.10  75.870  74.30  74.86  178159800.0         NaN         NaN   \n",
       "2006-10-03  74.45  74.950  73.19  74.07  197677200.0   -0.010553   -0.010609   \n",
       "2006-10-04  74.10  75.462  73.16  75.38  207270700.0    0.017686    0.017531   \n",
       "2006-10-05  74.53  76.160  74.13  74.83  170970800.0   -0.007296   -0.007323   \n",
       "2006-10-06  74.42  75.040  73.81  74.22  116739700.0   -0.008152   -0.008185   \n",
       "\n",
       "           Ticker  \n",
       "Date               \n",
       "2006-10-02   AAPL  \n",
       "2006-10-03   AAPL  \n",
       "2006-10-04   AAPL  \n",
       "2006-10-05   AAPL  \n",
       "2006-10-06   AAPL  "
      ]
     },
     "execution_count": 91,
     "metadata": {},
     "output_type": "execute_result"
    }
   ],
   "source": [
    "universe[0].head()"
   ]
  },
  {
   "cell_type": "code",
   "execution_count": 118,
   "metadata": {},
   "outputs": [],
   "source": [
    "stock_logret_dict = {symbol: stock['log return'].dropna() for stock, symbol in zip(universe,symbs)}"
   ]
  },
  {
   "cell_type": "code",
   "execution_count": 121,
   "metadata": {},
   "outputs": [],
   "source": [
    "stock_logret_df = pd.DataFrame.from_dict(stock_logret_dict)"
   ]
  },
  {
   "cell_type": "code",
   "execution_count": 123,
   "metadata": {},
   "outputs": [
    {
     "data": {
      "text/html": [
       "<div>\n",
       "<style>\n",
       "    .dataframe thead tr:only-child th {\n",
       "        text-align: right;\n",
       "    }\n",
       "\n",
       "    .dataframe thead th {\n",
       "        text-align: left;\n",
       "    }\n",
       "\n",
       "    .dataframe tbody tr th {\n",
       "        vertical-align: top;\n",
       "    }\n",
       "</style>\n",
       "<table border=\"1\" class=\"dataframe\">\n",
       "  <thead>\n",
       "    <tr style=\"text-align: right;\">\n",
       "      <th></th>\n",
       "      <th>AAPL</th>\n",
       "      <th>AMZN</th>\n",
       "      <th>GOOG</th>\n",
       "      <th>NFLX</th>\n",
       "    </tr>\n",
       "    <tr>\n",
       "      <th>Date</th>\n",
       "      <th></th>\n",
       "      <th></th>\n",
       "      <th></th>\n",
       "      <th></th>\n",
       "    </tr>\n",
       "  </thead>\n",
       "  <tbody>\n",
       "    <tr>\n",
       "      <th>2006-10-03</th>\n",
       "      <td>-0.010609</td>\n",
       "      <td>0.031566</td>\n",
       "      <td>NaN</td>\n",
       "      <td>0.010033</td>\n",
       "    </tr>\n",
       "    <tr>\n",
       "      <th>2006-10-04</th>\n",
       "      <td>0.017531</td>\n",
       "      <td>0.027857</td>\n",
       "      <td>NaN</td>\n",
       "      <td>0.006920</td>\n",
       "    </tr>\n",
       "    <tr>\n",
       "      <th>2006-10-05</th>\n",
       "      <td>-0.007323</td>\n",
       "      <td>0.016950</td>\n",
       "      <td>NaN</td>\n",
       "      <td>0.027632</td>\n",
       "    </tr>\n",
       "    <tr>\n",
       "      <th>2006-10-06</th>\n",
       "      <td>-0.008185</td>\n",
       "      <td>-0.022152</td>\n",
       "      <td>NaN</td>\n",
       "      <td>0.010842</td>\n",
       "    </tr>\n",
       "    <tr>\n",
       "      <th>2006-10-09</th>\n",
       "      <td>0.005509</td>\n",
       "      <td>0.023951</td>\n",
       "      <td>NaN</td>\n",
       "      <td>-0.004573</td>\n",
       "    </tr>\n",
       "  </tbody>\n",
       "</table>\n",
       "</div>"
      ],
      "text/plain": [
       "                AAPL      AMZN GOOG      NFLX\n",
       "Date                                         \n",
       "2006-10-03 -0.010609  0.031566  NaN  0.010033\n",
       "2006-10-04  0.017531  0.027857  NaN  0.006920\n",
       "2006-10-05 -0.007323  0.016950  NaN  0.027632\n",
       "2006-10-06 -0.008185 -0.022152  NaN  0.010842\n",
       "2006-10-09  0.005509  0.023951  NaN -0.004573"
      ]
     },
     "execution_count": 123,
     "metadata": {},
     "output_type": "execute_result"
    }
   ],
   "source": [
    "stock_logret_df.head()"
   ]
  },
  {
   "cell_type": "code",
   "execution_count": 133,
   "metadata": {},
   "outputs": [
    {
     "data": {
      "text/html": [
       "<div>\n",
       "<style>\n",
       "    .dataframe thead tr:only-child th {\n",
       "        text-align: right;\n",
       "    }\n",
       "\n",
       "    .dataframe thead th {\n",
       "        text-align: left;\n",
       "    }\n",
       "\n",
       "    .dataframe tbody tr th {\n",
       "        vertical-align: top;\n",
       "    }\n",
       "</style>\n",
       "<table border=\"1\" class=\"dataframe\">\n",
       "  <thead>\n",
       "    <tr style=\"text-align: right;\">\n",
       "      <th></th>\n",
       "      <th>AAPL</th>\n",
       "      <th>AMZN</th>\n",
       "      <th>NFLX</th>\n",
       "    </tr>\n",
       "    <tr>\n",
       "      <th>Date</th>\n",
       "      <th></th>\n",
       "      <th></th>\n",
       "      <th></th>\n",
       "    </tr>\n",
       "  </thead>\n",
       "  <tbody>\n",
       "    <tr>\n",
       "      <th>2006-10-03</th>\n",
       "      <td>-0.010609</td>\n",
       "      <td>0.031566</td>\n",
       "      <td>0.010033</td>\n",
       "    </tr>\n",
       "    <tr>\n",
       "      <th>2006-10-04</th>\n",
       "      <td>0.017531</td>\n",
       "      <td>0.027857</td>\n",
       "      <td>0.006920</td>\n",
       "    </tr>\n",
       "    <tr>\n",
       "      <th>2006-10-05</th>\n",
       "      <td>-0.007323</td>\n",
       "      <td>0.016950</td>\n",
       "      <td>0.027632</td>\n",
       "    </tr>\n",
       "    <tr>\n",
       "      <th>2006-10-06</th>\n",
       "      <td>-0.008185</td>\n",
       "      <td>-0.022152</td>\n",
       "      <td>0.010842</td>\n",
       "    </tr>\n",
       "    <tr>\n",
       "      <th>2006-10-09</th>\n",
       "      <td>0.005509</td>\n",
       "      <td>0.023951</td>\n",
       "      <td>-0.004573</td>\n",
       "    </tr>\n",
       "  </tbody>\n",
       "</table>\n",
       "</div>"
      ],
      "text/plain": [
       "                AAPL      AMZN      NFLX\n",
       "Date                                    \n",
       "2006-10-03 -0.010609  0.031566  0.010033\n",
       "2006-10-04  0.017531  0.027857  0.006920\n",
       "2006-10-05 -0.007323  0.016950  0.027632\n",
       "2006-10-06 -0.008185 -0.022152  0.010842\n",
       "2006-10-09  0.005509  0.023951 -0.004573"
      ]
     },
     "execution_count": 133,
     "metadata": {},
     "output_type": "execute_result"
    }
   ],
   "source": [
    "stock_logret_df.drop('GOOG', axis=1).head()"
   ]
  },
  {
   "cell_type": "code",
   "execution_count": 151,
   "metadata": {},
   "outputs": [
    {
     "name": "stdout",
     "output_type": "stream",
     "text": [
      "(0.0012770554951817368, 0.024049665985385476)\n"
     ]
    }
   ],
   "source": [
    "# Testing distributions\n",
    "import scipy.stats\n",
    "import matplotlib.pyplot as plt\n",
    "size = 30000\n",
    "dist_names = ['gamma', 'beta', 'rayleigh', 'norm', 'pareto']\n",
    "\n",
    "dist = scipy.stats.norm\n",
    "param = dist.fit(stock_logret_df[stock])\n",
    "print(param)\n",
    "\n",
    "\n",
    "fit = scipy.stats.norm.pdf(stock_logret_df[stock], param[0], param[1] )\n",
    "\n",
    "#pdf_fitted = dist.pdf(, param)\n",
    "\n"
   ]
  },
  {
   "cell_type": "code",
   "execution_count": null,
   "metadata": {},
   "outputs": [],
   "source": []
  }
 ],
 "metadata": {
  "kernelspec": {
   "display_name": "Python 3",
   "language": "python",
   "name": "python3"
  },
  "language_info": {
   "codemirror_mode": {
    "name": "ipython",
    "version": 3
   },
   "file_extension": ".py",
   "mimetype": "text/x-python",
   "name": "python",
   "nbconvert_exporter": "python",
   "pygments_lexer": "ipython3",
   "version": "3.6.3"
  }
 },
 "nbformat": 4,
 "nbformat_minor": 2
}
