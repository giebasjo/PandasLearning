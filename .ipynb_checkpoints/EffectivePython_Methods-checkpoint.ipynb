{
 "cells": [
  {
   "cell_type": "markdown",
   "metadata": {},
   "source": [
    "# Effective Python: 59 ways to write better python\n",
    "\n",
    "This iPython Notebook goes through the book *Effective Python: 59 specific ways to write better Python*. The goal of this iPython notebook is to learn more efficient ways to utilize python. Each item will keep in mind Chapter 1's main topic, *Pythonic Thinking*, a coding paradigm specific to python that is widely spread throughout the community."
   ]
  },
  {
   "cell_type": "markdown",
   "metadata": {},
   "source": [
    "## Chapter 1: Pythonic Thinking"
   ]
  },
  {
   "cell_type": "markdown",
   "metadata": {},
   "source": [
    "<a id=\"zen\"></a>\n",
    "The Zen of Python, by Tim Peters\n",
    "\n",
    "Beautiful is better than ugly. <br>\n",
    "Explicit is better than implicit. <br>\n",
    "Simple is better than complex. <br>\n",
    "Complex is better than complicated. <br>\n",
    "Flat is better than nested. <br>\n",
    "Sparse is better than dense. <br>\n",
    "Readability counts. <br>\n",
    "Special cases aren't special enough to break the rules. <br>\n",
    "Although practicality beats purity. <br>\n",
    "Errors should never pass silently. <br>\n",
    "Unless explicitly silenced. <br>\n",
    "In the face of ambiguity, refuse the temptation to guess. <br>\n",
    "There should be one-- and preferably only one --obvious way to do it. <br>\n",
    "Although that way may not be obvious at first unless you're Dutch.<br>\n",
    "Now is better than never.<br>\n",
    "Although never is often better than *right* now.<br>\n",
    "If the implementation is hard to explain, it's a bad idea.<br>\n",
    "If the implementation is easy to explain, it may be a good idea.<br>\n",
    "Namespaces are one honking great idea -- let's do more of those!<br>"
   ]
  },
  {
   "cell_type": "markdown",
   "metadata": {},
   "source": [
    "### Item 1: Know what version of python you're using"
   ]
  },
  {
   "cell_type": "markdown",
   "metadata": {},
   "source": [
    "Many packages and dependencies were changed as Python made the transition from python2 to python3. By default, when typing **python (filename)** into the terminal, the latest version of python2 is used. By contrast, running **python3** in the shell runs the latest version of python3. Below are a few ways to check the version(s) of python installed"
   ]
  },
  {
   "cell_type": "code",
   "execution_count": 10,
   "metadata": {},
   "outputs": [
    {
     "name": "stdout",
     "output_type": "stream",
     "text": [
      "Python 2.7.10\r\n"
     ]
    }
   ],
   "source": [
    "# Using bang (!) to run in-shell commands\n",
    "!python --version "
   ]
  },
  {
   "cell_type": "code",
   "execution_count": 11,
   "metadata": {},
   "outputs": [
    {
     "name": "stdout",
     "output_type": "stream",
     "text": [
      "Python 3.6.3\r\n"
     ]
    }
   ],
   "source": [
    "!python3 --version"
   ]
  },
  {
   "cell_type": "code",
   "execution_count": 12,
   "metadata": {},
   "outputs": [
    {
     "name": "stdout",
     "output_type": "stream",
     "text": [
      "sys.version_info(major=3, minor=6, micro=3, releaselevel='final', serial=0)\n",
      "3.6.3 (default, Oct  4 2017, 06:09:15) \n",
      "[GCC 4.2.1 Compatible Apple LLVM 9.0.0 (clang-900.0.37)]\n"
     ]
    }
   ],
   "source": [
    "import sys\n",
    "print(sys.version_info)\n",
    "print(sys.version)"
   ]
  },
  {
   "cell_type": "markdown",
   "metadata": {},
   "source": [
    "### Item 2: PEP8 style-guide\n",
    "\n",
    "PEP8 (Python Enhancement Proposal #8) is a guide for formatting python code. The following link contains the guide in entirety, and is worth checking out: http://www.python.org/dev/peps/pep-0008/ <br>\n",
    "Below are some primary rules worth following immediately (I've only selected the ones that I consider to be clearly relevant): <br>\n",
    "\n",
    "**White Space:** Keep in mind that white space is syntactically significant <br>\n",
    "<ul>\n",
    "    <li> Lines should be less than 79 characters in length\n",
    "    <li> Continuations of long lines should be indented properly (as in R)\n",
    "    <li> In a file, functions and classes should be separated by two blank lines\n",
    "    <li> In a class, methods should be separated by one blank line\n",
    "    <li> Put one, and only one, space before and after variable assignment\n",
    "    <li> Don't put spaces around list indices, function calls, or keyword argument assignments\n",
    "</ul>\n",
    "\n",
    "**Naming:** A particular style is associated with different names within the language, here's a guide: <br>\n",
    "<ul>\n",
    "    <li> Functions, variables, and attributes follow `lowercase_underscore`\n",
    "    <li> Protected instance attributes should follow `_leading_underscore`\n",
    "    <li> Private instance attributes should follow `__double_leading_underscore`\n",
    "    <li> Classes and exceptions should be in `ReverseCamelCase`\n",
    "    <li> Module-level constants should follow `ALL_CAPS`\n",
    "    <li> Instance methods within a class should pass `self` as the first argument (referring to object)\n",
    "    <li> Class methods should use `cls` as the name of the first parameter (referring to the class)\n",
    "</ul>\n",
    "\n",
    "**Expressions and Statements:** Referring to [The Zen of Python](#zen), \"There should be one-- and preferably only one --obvious way to do it.\" The PEP8 guide eliminates some ambiguity in decision making, as seen as follows: <br>\n",
    "<ul>\n",
    "    <li> Use inline negation (`if a is not b`) rather than negation of positive expressions (`if not as is b`)\n",
    "    <li> Don't check for empty values (like `[]` or `''`) by checking the length (`if len(somelist) == 0`). Use `if not somelist` and assume empty values evaluate to `False`\n",
    "    <li> Similarly for non-empty values (like `['hello_world']`. Assume `if somelist` will evaluate to `True` if non-empty\n",
    "    <li> Avoid single line `if` statements, `for` and `while` loops. Spread them out for clarity.\n",
    "    <li> `import` statement belong at the top of the file\n",
    "    <li> When importing a module, be sure to use the absolute path: `from foo import bar`\n",
    "    <li> Imports should be in sections in the following order: standard library modules, third-party modules, your own modules. Each subsection should have imports in alphabetical order.\n",
    "</ul>"
   ]
  },
  {
   "cell_type": "markdown",
   "metadata": {},
   "source": [
    "### Item 3: Differences between bytes, str, and unicode\n",
    "A lot to this topic surely, below is a summary of the key points made:\n",
    "<ul>\n",
    "    <li> **Python3:** Sequences of characters can be `bytes` or `str`. Instances of `bytes` contain raw 8-bit values; instances of `str` contain Unicode characters\n",
    "    <li> **Python2:** Sequences of characters can be `str` or `unicode`. Instances of `str` contain raw 8-bit values; instances of `unicode` contain Unicode characters\n",
    "</ul>\n",
    "\n",
    "Have caution with which sort of sequence of characters you'd like to work.\n",
    "    \n",
    "  "
   ]
  },
  {
   "cell_type": "markdown",
   "metadata": {},
   "source": [
    "### Item 5: Slice Sequences\n",
    "\n",
    "Often we are working with an iterable, so we will need to extract subsets of data. Python offers a variety of ways designed to make that as easy as possible.\n"
   ]
  },
  {
   "cell_type": "code",
   "execution_count": 13,
   "metadata": {},
   "outputs": [
    {
     "name": "stdout",
     "output_type": "stream",
     "text": [
      "First Four: ['a', 'b', 'c', 'd']\n",
      "Last Four: ['e', 'f', 'g', 'h']\n",
      "Middle Two: ['d', 'e']\n"
     ]
    }
   ],
   "source": [
    "a = ['a','b','c','d','e','f','g','h']\n",
    "print(\"First Four:\", a[:4])\n",
    "print(\"Last Four:\", a[-4:])\n",
    "print(\"Middle Two:\", a[3:-3])"
   ]
  },
  {
   "cell_type": "markdown",
   "metadata": {},
   "source": [
    "When slicing from the start of the list, leave out the zero index"
   ]
  },
  {
   "cell_type": "code",
   "execution_count": 19,
   "metadata": {},
   "outputs": [
    {
     "data": {
      "text/plain": [
       "['a', 'b', 'c', 'd', 'e', 'f', 'g', 'h']"
      ]
     },
     "execution_count": 19,
     "metadata": {},
     "output_type": "execute_result"
    }
   ],
   "source": [
    "b = a[0:8] # NO\n",
    "b = a[:8] # YES\n",
    "b"
   ]
  },
  {
   "cell_type": "markdown",
   "metadata": {},
   "source": [
    "Similarly, when slicing from the end of the list leave out the last index"
   ]
  },
  {
   "cell_type": "code",
   "execution_count": 20,
   "metadata": {},
   "outputs": [
    {
     "data": {
      "text/plain": [
       "['f', 'g', 'h']"
      ]
     },
     "execution_count": 20,
     "metadata": {},
     "output_type": "execute_result"
    }
   ],
   "source": [
    "b = a[5:len(a)] # NO\n",
    "b = a[5:] # YES\n",
    "b"
   ]
  },
  {
   "cell_type": "markdown",
   "metadata": {},
   "source": [
    "Here are a variety of ways to slice"
   ]
  },
  {
   "cell_type": "code",
   "execution_count": 23,
   "metadata": {},
   "outputs": [
    {
     "name": "stdout",
     "output_type": "stream",
     "text": [
      "['a', 'b', 'c', 'd', 'e', 'f', 'g', 'h']\n",
      "['a', 'b', 'c', 'd', 'e']\n",
      "['a', 'b', 'c', 'd', 'e', 'f', 'g']\n",
      "['e', 'f', 'g', 'h']\n",
      "['f', 'g', 'h']\n",
      "['c', 'd', 'e']\n",
      "['c', 'd', 'e', 'f', 'g']\n",
      "['f', 'g']\n"
     ]
    }
   ],
   "source": [
    "print(a[:])     # ['a','b','c','d','e','f','g','h']\n",
    "print(a[:5])    # ['a','b','c','d','e'] \n",
    "print(a[:-1])   # ['a','b','c','d','e','f','g'] \n",
    "print(a[4:])    #                 ['e','f','g','h']\n",
    "print(a[-3:])   #                     ['f','g','h']\n",
    "print(a[2:5])   #         ['c','d','e']\n",
    "print(a[2:-1])  #         ['c','d','e','f','g']\n",
    "print(a[-3:-1]) #                     ['f','g']"
   ]
  },
  {
   "cell_type": "markdown",
   "metadata": {},
   "source": [
    "**Note:** An IndexError is returned if the requested slice goes out of bounds."
   ]
  },
  {
   "cell_type": "markdown",
   "metadata": {},
   "source": [
    "The result of a list is another list, that is a copy is made. References from the original list are maintained:"
   ]
  },
  {
   "cell_type": "code",
   "execution_count": 24,
   "metadata": {},
   "outputs": [
    {
     "name": "stdout",
     "output_type": "stream",
     "text": [
      "Before:  ['e', 'f', 'g', 'h']\n",
      "After:  ['e', 99, 'g', 'h']\n",
      "No change:  ['a', 'b', 'c', 'd', 'e', 'f', 'g', 'h']\n"
     ]
    }
   ],
   "source": [
    "b = a[4:]\n",
    "print(\"Before: \", b)\n",
    "b[1] = 99\n",
    "print(\"After: \", b)\n",
    "print(\"No change: \", a)"
   ]
  },
  {
   "cell_type": "markdown",
   "metadata": {},
   "source": [
    "### Item 6: Avoid using start, end and stride in Single Slice\n",
    "\n",
    "Python has syntax to easily allow iterate every nth element. The example below groups the array by even and odd indices"
   ]
  },
  {
   "cell_type": "code",
   "execution_count": 25,
   "metadata": {},
   "outputs": [
    {
     "name": "stdout",
     "output_type": "stream",
     "text": [
      "['red', 'yellow', 'blue']\n",
      "['orange', 'green', 'purple']\n"
     ]
    }
   ],
   "source": [
    "# Evens : 0, 2, 4, ...\n",
    "# Odds  : 1, 3, 5, ...\n",
    "a = ['red','orange','yellow','green','blue','purple']\n",
    "evens = a[::2]\n",
    "odds = a[1::2]\n",
    "print(evens)\n",
    "print(odds)"
   ]
  },
  {
   "cell_type": "raw",
   "metadata": {},
   "source": [
    "The problem is that the "
   ]
  }
 ],
 "metadata": {
  "kernelspec": {
   "display_name": "Python 3",
   "language": "python",
   "name": "python3"
  },
  "language_info": {
   "codemirror_mode": {
    "name": "ipython",
    "version": 3
   },
   "file_extension": ".py",
   "mimetype": "text/x-python",
   "name": "python",
   "nbconvert_exporter": "python",
   "pygments_lexer": "ipython3",
   "version": "3.6.3"
  }
 },
 "nbformat": 4,
 "nbformat_minor": 2
}
